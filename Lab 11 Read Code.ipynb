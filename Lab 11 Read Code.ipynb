{
 "cells": [
  {
   "cell_type": "code",
   "execution_count": null,
   "id": "f85ee034-0e06-4112-a8b7-c654aeabd415",
   "metadata": {},
   "outputs": [],
   "source": []
  },
  {
   "cell_type": "markdown",
   "id": "06089e8f-c72e-440d-8efb-a256e6fbc462",
   "metadata": {},
   "source": [
    "# User\n",
    "Create a Python Function that will count characters, words, and lines within a file"
   ]
  },
  {
   "cell_type": "markdown",
   "id": "24fbdf24-3649-423d-a0db-643e5733a3a3",
   "metadata": {},
   "source": [
    "# Assistant\n",
    "To create a Python function that counts characters, words, and lines within a file, you can use the following code:\n"
   ]
  },
  {
   "cell_type": "code",
   "execution_count": 5,
   "id": "a786f18e-43a1-44fe-ab26-d934ada48d3f",
   "metadata": {},
   "outputs": [],
   "source": [
    "def count_file_stats(file_path):\n",
    "    with open(file_path, 'r') as file:\n",
    "        text = file.read()\n",
    "        char_count = len(text)\n",
    "        word_count = len(text.split())\n",
    "        line_count = text.count('\\n') + 1  # Adding 1 to account for the last line\n",
    "        \n",
    "        return {\n",
    "            'character_count': char_count,\n",
    "            'word_count': word_count,\n",
    "            'line_count': line_count\n",
    "        }"
   ]
  },
  {
   "cell_type": "markdown",
   "id": "3daa870d-d819-4c87-8b5d-8d583b63a042",
   "metadata": {},
   "source": [
    "\n",
    "In this function, we open the file using a context manager to ensure it is properly closed after reading. We then read the entire file into a string and use built-in Python functions to count the characters, words, and lines. Finally, we return the counts as a dictionary.\n",
    "\n",
    "To use this function, you can call it with the file path as an argument, like this:"
   ]
  },
  {
   "cell_type": "code",
   "execution_count": 19,
   "id": "7aaa1eb1-33c4-41eb-b464-f98154bbbde1",
   "metadata": {},
   "outputs": [
    {
     "ename": "FileNotFoundError",
     "evalue": "[Errno 2] No such file or directory: 'ObamaFirstInagural.tex'",
     "output_type": "error",
     "traceback": [
      "\u001b[0;31m---------------------------------------------------------------------------\u001b[0m",
      "\u001b[0;31mFileNotFoundError\u001b[0m                         Traceback (most recent call last)",
      "Cell \u001b[0;32mIn[19], line 2\u001b[0m\n\u001b[1;32m      1\u001b[0m file_path \u001b[38;5;241m=\u001b[39m \u001b[38;5;124m'\u001b[39m\u001b[38;5;124mObamaFirstInagural.tex\u001b[39m\u001b[38;5;124m'\u001b[39m\n\u001b[0;32m----> 2\u001b[0m stats \u001b[38;5;241m=\u001b[39m count_file_stats(file_path)\n\u001b[1;32m      3\u001b[0m \u001b[38;5;28mprint\u001b[39m(stats)\n",
      "Cell \u001b[0;32mIn[5], line 2\u001b[0m, in \u001b[0;36mcount_file_stats\u001b[0;34m(file_path)\u001b[0m\n\u001b[1;32m      1\u001b[0m \u001b[38;5;28;01mdef\u001b[39;00m \u001b[38;5;21mcount_file_stats\u001b[39m(file_path):\n\u001b[0;32m----> 2\u001b[0m     \u001b[38;5;28;01mwith\u001b[39;00m \u001b[38;5;28mopen\u001b[39m(file_path, \u001b[38;5;124m'\u001b[39m\u001b[38;5;124mr\u001b[39m\u001b[38;5;124m'\u001b[39m) \u001b[38;5;28;01mas\u001b[39;00m file:\n\u001b[1;32m      3\u001b[0m         text \u001b[38;5;241m=\u001b[39m file\u001b[38;5;241m.\u001b[39mread()\n\u001b[1;32m      4\u001b[0m         char_count \u001b[38;5;241m=\u001b[39m \u001b[38;5;28mlen\u001b[39m(text)\n",
      "File \u001b[0;32m/opt/conda/envs/anaconda-panel-2023.05-py310/lib/python3.11/site-packages/IPython/core/interactiveshell.py:286\u001b[0m, in \u001b[0;36m_modified_open\u001b[0;34m(file, *args, **kwargs)\u001b[0m\n\u001b[1;32m    279\u001b[0m \u001b[38;5;28;01mif\u001b[39;00m file \u001b[38;5;129;01min\u001b[39;00m {\u001b[38;5;241m0\u001b[39m, \u001b[38;5;241m1\u001b[39m, \u001b[38;5;241m2\u001b[39m}:\n\u001b[1;32m    280\u001b[0m     \u001b[38;5;28;01mraise\u001b[39;00m \u001b[38;5;167;01mValueError\u001b[39;00m(\n\u001b[1;32m    281\u001b[0m         \u001b[38;5;124mf\u001b[39m\u001b[38;5;124m\"\u001b[39m\u001b[38;5;124mIPython won\u001b[39m\u001b[38;5;124m'\u001b[39m\u001b[38;5;124mt let you open fd=\u001b[39m\u001b[38;5;132;01m{\u001b[39;00mfile\u001b[38;5;132;01m}\u001b[39;00m\u001b[38;5;124m by default \u001b[39m\u001b[38;5;124m\"\u001b[39m\n\u001b[1;32m    282\u001b[0m         \u001b[38;5;124m\"\u001b[39m\u001b[38;5;124mas it is likely to crash IPython. If you know what you are doing, \u001b[39m\u001b[38;5;124m\"\u001b[39m\n\u001b[1;32m    283\u001b[0m         \u001b[38;5;124m\"\u001b[39m\u001b[38;5;124myou can use builtins\u001b[39m\u001b[38;5;124m'\u001b[39m\u001b[38;5;124m open.\u001b[39m\u001b[38;5;124m\"\u001b[39m\n\u001b[1;32m    284\u001b[0m     )\n\u001b[0;32m--> 286\u001b[0m \u001b[38;5;28;01mreturn\u001b[39;00m io_open(file, \u001b[38;5;241m*\u001b[39margs, \u001b[38;5;241m*\u001b[39m\u001b[38;5;241m*\u001b[39mkwargs)\n",
      "\u001b[0;31mFileNotFoundError\u001b[0m: [Errno 2] No such file or directory: 'ObamaFirstInagural.tex'"
     ]
    }
   ],
   "source": [
    "file_path = 'ObamaFirstInagural.tex'\n",
    "stats = count_file_stats(file_path)\n",
    "print(stats)"
   ]
  },
  {
   "cell_type": "markdown",
   "id": "4c466485-19dc-4c59-b50b-d246476587bb",
   "metadata": {},
   "source": [
    "\n",
    "For this function, you will need the built-in `open` function to open the file, and the `len` function to count characters and words. Additionally, the `split` method is used to split the text into words, and the `count` method is used to count the number of lines."
   ]
  }
 ],
 "metadata": {
  "kernelspec": {
   "display_name": "anaconda-panel-2023.05-py310",
   "language": "python",
   "name": "conda-env-anaconda-panel-2023.05-py310-py"
  },
  "language_info": {
   "codemirror_mode": {
    "name": "ipython",
    "version": 3
   },
   "file_extension": ".py",
   "mimetype": "text/x-python",
   "name": "python",
   "nbconvert_exporter": "python",
   "pygments_lexer": "ipython3",
   "version": "3.11.5"
  }
 },
 "nbformat": 4,
 "nbformat_minor": 5
}
